{
 "cells": [
  {
   "cell_type": "code",
   "execution_count": 10,
   "metadata": {},
   "outputs": [],
   "source": [
    "import json\n",
    "import requests"
   ]
  },
  {
   "cell_type": "code",
   "execution_count": 11,
   "metadata": {},
   "outputs": [],
   "source": [
    "base_root = 'http://127.0.0.1:5000/Models'"
   ]
  },
  {
   "cell_type": "markdown",
   "metadata": {},
   "source": [
    "## Создание моделей"
   ]
  },
  {
   "cell_type": "code",
   "execution_count": 107,
   "metadata": {},
   "outputs": [
    {
     "name": "stdout",
     "output_type": "stream",
     "text": [
      "<Response [200]> {\n",
      "  \"message\": \"Model 1 successfully set.\"\n",
      "}\n",
      "\n",
      "<Response [200]> {\n",
      "  \"message\": \"Model 2 successfully set.\"\n",
      "}\n",
      "\n"
     ]
    }
   ],
   "source": [
    "headers = {\"accept\": \"application/json\", \"content-type\": \"application/json\"}\n",
    "\n",
    "set_params = {\n",
    "  \"model_id\": 1,\n",
    "  \"model_type\": \"Regression\",\n",
    "  \"model_comment\" : 'blablabla'\n",
    "}\n",
    "r = requests.post(f'{base_root}/model/set', headers=headers, data=json.dumps(set_params))\n",
    "print(r, r.text)\n",
    "\n",
    "set_params = {\n",
    "  \"model_id\": 2,\n",
    "  \"model_type\": \"BinaryClassification\",\n",
    "}\n",
    "r = requests.post(f'{base_root}/model/set', headers=headers, data=json.dumps(set_params))\n",
    "print(r, r.text)\n"
   ]
  },
  {
   "cell_type": "markdown",
   "metadata": {},
   "source": [
    "## Обучение модели"
   ]
  },
  {
   "cell_type": "code",
   "execution_count": 108,
   "metadata": {},
   "outputs": [
    {
     "name": "stdout",
     "output_type": "stream",
     "text": [
      "<Response [200]> {\n",
      "  \"message\": \"Model 1 successfully fitted.\"\n",
      "}\n",
      "\n"
     ]
    }
   ],
   "source": [
    "model_params = {'max_depth':3, 'n_estimators':10}\n",
    "\n",
    "fit_params = {\n",
    "  \"model_id\": 1,\n",
    "  \"model_params\" : model_params,\n",
    "  \"refit\": True}\n",
    "\n",
    "r = requests.post(f'{base_root}/model/fit', headers=headers, data=json.dumps(fit_params))\n",
    "print(r, r.text)"
   ]
  },
  {
   "cell_type": "markdown",
   "metadata": {},
   "source": [
    "## Вызов предикта модели"
   ]
  },
  {
   "cell_type": "code",
   "execution_count": 109,
   "metadata": {},
   "outputs": [
    {
     "name": "stdout",
     "output_type": "stream",
     "text": [
      "\"{\\\"predict\\\": [143.3677716370052, 106.81793715082154, 51.13345947007947, -6.598089072096316, -15.452031463398765, -44.23858906458615, -27.208354195664914, -49.500379386503816, -24.011968276836676, 42.74642583779159, -32.02778662613136, 50.53843667406357, 15.49235926390404, 117.15807435530678, 42.74642583779159, -44.23858906458615, -33.42975234490387, -99.91691674544765, -63.48098669234325, -99.91691674544765, -1.1291531962252725, 27.483382873695906, -63.48098669234325, -32.02778662613136, -22.3390973855506, -55.26313685412752, 50.53843667406357, -6.598089072096316, -110.4272934761749, -118.15140007257193, -93.76858555162212, 6.057166973538908, -10.983583728821085, -10.983583728821085, -5.462351800404937, -27.66283390185356, -165.15809247605569, -15.452031463398765, 78.38752604396701, -90.20702892109234, -15.452031463398765, 22.06873585893397, -15.452031463398765, -142.3250933412292, -78.60397943592709, 28.501875078742025, -40.3168182670557, 98.64773638608172, -6.598089072096316, 0.390682429699514, -53.7922974517625, -6.598089072096316, 91.82470522747752, 1.227218709633712, 22.06873585893397, -24.011968276836676, -34.549899824005394, 78.38752604396701, 9.695888328257602, 79.8391573336177, 78.58113218323938, -63.48098669234325, -45.734246872840586, -22.3390973855506, 69.40861296572209, -68.91529019534633, -30.611254129256746, -15.452031463398765, -10.983583728821085, -32.02778662613136, -63.48098669234325, -46.34408470098105, -32.02778662613136, -32.924624223771225, -71.05595990170983, -97.71038168144992, 5.757912725926566, 91.30257045958508, 1.227218709633712, -27.66283390185356, 98.64773638608172, -166.1064137236312, 45.76479369196352, -44.23858906458615, -24.011968276836676, -32.02778662613136, -13.53197030127115, 88.51701169466168, 60.62932971169049, 79.95634071646963, -78.60397943592709, 22.06873585893397, -9.553624345657257, 29.113292427566044, -44.23858906458615, -63.48098669234325, -30.611254129256746, 40.7933222655942, 41.559523595818646, -87.68514221948485]}\"\n",
      "\n"
     ]
    }
   ],
   "source": [
    "predict_params = {\"model_id\" : 1}\n",
    "r = requests.get(f'{base_root}/model/predict', headers=headers, \n",
    "                 data = json.dumps(predict_params))\n",
    "print(r.text)"
   ]
  },
  {
   "cell_type": "markdown",
   "metadata": {},
   "source": [
    "## Список моделей"
   ]
  },
  {
   "cell_type": "code",
   "execution_count": 110,
   "metadata": {},
   "outputs": [
    {
     "name": "stdout",
     "output_type": "stream",
     "text": [
      "{\n",
      "  \"1\": \"Model_type: Regression, is_fitted : True, comment : blablabla\", \n",
      "  \"2\": \"Model_type: BinaryClassification, is_fitted : False, comment : -\"\n",
      "}\n",
      "\n"
     ]
    }
   ],
   "source": [
    "r = requests.get(f'{base_root}/models_list', headers=headers)\n",
    "print(r.text)"
   ]
  },
  {
   "cell_type": "markdown",
   "metadata": {},
   "source": [
    "## Удаление модели"
   ]
  },
  {
   "cell_type": "code",
   "execution_count": 111,
   "metadata": {},
   "outputs": [
    {
     "name": "stdout",
     "output_type": "stream",
     "text": [
      "<Response [200]> {\n",
      "  \"message\": \"Model 2 successfully deleted.\"\n",
      "}\n",
      "\n",
      "<Response [200]> {\n",
      "  \"1\": \"Model_type: Regression, is_fitted : True, comment : blablabla\"\n",
      "}\n",
      "\n"
     ]
    }
   ],
   "source": [
    "delete_params = {\"model_id\" : 2}\n",
    "r = requests.delete(f'{base_root}/model/delete', headers=headers, \n",
    "                 data = json.dumps(delete_params))\n",
    "print(r, r.text)\n",
    "\n",
    "r = requests.get('http://127.0.0.1:5000/Models/models_list', headers=headers)\n",
    "print(r, r.text)"
   ]
  },
  {
   "cell_type": "markdown",
   "metadata": {},
   "source": [
    "## Переобучение модели с другими параметрами"
   ]
  },
  {
   "cell_type": "code",
   "execution_count": 114,
   "metadata": {},
   "outputs": [
    {
     "name": "stdout",
     "output_type": "stream",
     "text": [
      "<Response [200]> {\n",
      "  \"message\": \"Model 2 successfully set.\"\n",
      "}\n",
      "\n",
      "<Response [200]> {\n",
      "  \"message\": \"Model 2 successfully fitted.\"\n",
      "}\n",
      "\n",
      "<Response [200]> {\n",
      "  \"message\": \"Model 2 successfully fitted.\"\n",
      "}\n",
      "\n"
     ]
    }
   ],
   "source": [
    "set_params = {\n",
    "  \"model_id\": 2,\n",
    "  \"model_type\": \"BinaryClassification\",\n",
    "}\n",
    "r = requests.post(f'{base_root}/model/set', headers=headers, data=json.dumps(set_params))\n",
    "print(r, r.text)\n",
    "\n",
    "model_params = {'max_depth':2, 'criterion':'gini'}\n",
    "\n",
    "fit_params = {\n",
    "  \"model_id\": 2,\n",
    "  \"model_params\" : model_params}\n",
    "\n",
    "r = requests.post('http://127.0.0.1:5000/Models/model/fit', headers=headers, data=json.dumps(fit_params))\n",
    "print(r, r.text)\n",
    "\n",
    "model_params = {'max_depth':3, 'criterion':'gini'}\n",
    "\n",
    "fit_params = {\n",
    "  \"model_id\": 2,\n",
    "  \"model_params\" : model_params}\n",
    "\n",
    "r = requests.post('http://127.0.0.1:5000/Models/model/fit', headers=headers, data=json.dumps(fit_params))\n",
    "print(r, r.text)"
   ]
  },
  {
   "cell_type": "markdown",
   "metadata": {},
   "source": [
    "## Обработка ошибок"
   ]
  },
  {
   "cell_type": "code",
   "execution_count": 116,
   "metadata": {},
   "outputs": [
    {
     "name": "stdout",
     "output_type": "stream",
     "text": [
      "<Response [500]> {\n",
      "  \"error\": {\n",
      "    \"message\": [\n",
      "      \"Unrecognized model type. Available types: ['Regression', 'BinaryClassification']\"\n",
      "    ], \n",
      "    \"type\": \"ValueError\"\n",
      "  }\n",
      "}\n",
      "\n"
     ]
    }
   ],
   "source": [
    "set_params = {\n",
    "  \"model_id\": 2,\n",
    "  \"model_type\": \"BinaryClassificatеion\",\n",
    "}\n",
    "r = requests.post(f'{base_root}/model/set', headers=headers, data=json.dumps(set_params))\n",
    "print(r, r.text)\n"
   ]
  },
  {
   "cell_type": "code",
   "execution_count": 118,
   "metadata": {},
   "outputs": [
    {
     "name": "stdout",
     "output_type": "stream",
     "text": [
      "<Response [500]> {\n",
      "  \"error\": {\n",
      "    \"message\": [\n",
      "      \"set_model() got an unexpected keyword argument 'model_typee'\"\n",
      "    ], \n",
      "    \"type\": \"TypeError\"\n",
      "  }\n",
      "}\n",
      "\n"
     ]
    }
   ],
   "source": [
    "set_params = {\n",
    "  \"model_id\": 2,\n",
    "  \"model_typee\": \"BinaryClassification\",\n",
    "}\n",
    "r = requests.post(f'{base_root}/model/set', headers=headers, data=json.dumps(set_params))\n",
    "print(r, r.text)\n"
   ]
  },
  {
   "cell_type": "code",
   "execution_count": 119,
   "metadata": {},
   "outputs": [
    {
     "name": "stdout",
     "output_type": "stream",
     "text": [
      "<Response [500]> {\n",
      "  \"error\": {\n",
      "    \"message\": [\n",
      "      \"Unrecognized params for model BinaryClassification: ['max_depthhhhh']\"\n",
      "    ], \n",
      "    \"type\": \"ValueError\"\n",
      "  }\n",
      "}\n",
      "\n"
     ]
    }
   ],
   "source": [
    "model_params = {'max_depthhhhh':3, 'criterion':'gini'}\n",
    "\n",
    "fit_params = {\n",
    "  \"model_id\": 2,\n",
    "  \"model_params\" : model_params}\n",
    "\n",
    "r = requests.post('http://127.0.0.1:5000/Models/model/fit', headers=headers, data=json.dumps(fit_params))\n",
    "print(r, r.text)"
   ]
  },
  {
   "cell_type": "code",
   "execution_count": null,
   "metadata": {},
   "outputs": [],
   "source": []
  }
 ],
 "metadata": {
  "kernelspec": {
   "display_name": "Python 3",
   "language": "python",
   "name": "python3"
  },
  "language_info": {
   "codemirror_mode": {
    "name": "ipython",
    "version": 3
   },
   "file_extension": ".py",
   "mimetype": "text/x-python",
   "name": "python",
   "nbconvert_exporter": "python",
   "pygments_lexer": "ipython3",
   "version": "3.7.3"
  },
  "toc": {
   "base_numbering": 1,
   "nav_menu": {},
   "number_sections": true,
   "sideBar": true,
   "skip_h1_title": false,
   "title_cell": "Table of Contents",
   "title_sidebar": "Contents",
   "toc_cell": false,
   "toc_position": {},
   "toc_section_display": true,
   "toc_window_display": false
  }
 },
 "nbformat": 4,
 "nbformat_minor": 2
}
