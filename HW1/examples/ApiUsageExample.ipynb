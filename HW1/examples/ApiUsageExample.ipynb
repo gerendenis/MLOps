{
 "cells": [
  {
   "cell_type": "code",
   "execution_count": 1,
   "metadata": {},
   "outputs": [],
   "source": [
    "import json\n",
    "import requests"
   ]
  },
  {
   "cell_type": "code",
   "execution_count": 2,
   "metadata": {},
   "outputs": [],
   "source": [
    "base_root = 'http://127.0.0.1:5000/Models'"
   ]
  },
  {
   "cell_type": "markdown",
   "metadata": {},
   "source": [
    "## Создание моделей"
   ]
  },
  {
   "cell_type": "code",
   "execution_count": 3,
   "metadata": {},
   "outputs": [
    {
     "name": "stdout",
     "output_type": "stream",
     "text": [
      "<Response [200]>\n",
      "<Response [200]>\n"
     ]
    }
   ],
   "source": [
    "headers = {\"accept\": \"application/json\", \"content-type\": \"application/json\"}\n",
    "\n",
    "set_params = {\n",
    "  \"model_id\": 1,\n",
    "  \"model_type\": \"Regression\",\n",
    "  \"model_comment\" : 'blablabla'\n",
    "}\n",
    "r = requests.post(f'{base_root}/model/set', headers=headers, data=json.dumps(set_params))\n",
    "print(r)\n",
    "\n",
    "set_params = {\n",
    "  \"model_id\": 2,\n",
    "  \"model_type\": \"BinaryClassification\",\n",
    "}\n",
    "r = requests.post(f'{base_root}/model/set', headers=headers, data=json.dumps(set_params))\n",
    "print(r)"
   ]
  },
  {
   "cell_type": "markdown",
   "metadata": {},
   "source": [
    "## Обучение модели"
   ]
  },
  {
   "cell_type": "code",
   "execution_count": 4,
   "metadata": {},
   "outputs": [
    {
     "data": {
      "text/plain": [
       "<Response [200]>"
      ]
     },
     "execution_count": 4,
     "metadata": {},
     "output_type": "execute_result"
    }
   ],
   "source": [
    "model_params = {'max_depth':3, 'n_estimators':10}\n",
    "\n",
    "fit_params = {\n",
    "  \"model_id\": 1,\n",
    "  \"model_params\" : model_params,\n",
    "  \"refit\": True}\n",
    "\n",
    "r = requests.post(f'{base_root}/model/fit', headers=headers, data=json.dumps(fit_params))\n",
    "r"
   ]
  },
  {
   "cell_type": "markdown",
   "metadata": {},
   "source": [
    "## Вызов предикта модели"
   ]
  },
  {
   "cell_type": "code",
   "execution_count": 5,
   "metadata": {},
   "outputs": [
    {
     "name": "stdout",
     "output_type": "stream",
     "text": [
      "\"{\\\"predict\\\": [50.64303328692874, -55.66890189199553, -72.11205337369202, -47.67597789432067, 5.701390380109691, 128.79457151226035, 67.73729552021332, 149.13032480513215, -75.81372143968188, -55.66890189199553, -120.85837778208118, -55.66890189199553, -47.67597789432067, -55.66890189199553, 87.98172466839739, -75.28183905594952, -26.337567365307358, -55.66890189199553, -120.48491771886889, -55.66890189199553, 45.407985596045854, 32.00682344079097, -60.92265558705306, 126.25146152849095, 3.4362880347153135, -72.58663676524249, 40.12193073935869, -78.81181504404974, 141.4287611424928, 17.499719436819486, 116.04555882092629, -162.53976656074312, 107.3369792637724, -55.66890189199553, -117.83315140168877, 40.12193073935869, -55.66890189199553, 146.01691921698622, 30.41228291810911, -47.67597789432067, 5.701390380109691, -55.66890189199553, 95.02852209764195, -47.67597789432067, -49.53631422485168, -86.8047390417246, 134.93281595358823, 27.20936725806907, 40.12193073935869, -86.8047390417246, 30.369607300630935, 72.53475170293522, -78.6750750431921, -17.313570054061262, 174.87740493853948, -72.11205337369202, 35.69833777479628, 58.843644546280096, 86.10052171572268, 74.59817265666388, 3.4362880347153135, 72.53475170293522, 30.41228291810911, -217.82027568817952, -69.25069977018184, -83.39694635451724, -4.008257441139888, 45.407985596045854, -192.14649741861803, -78.6750750431921, -63.15306592952196, 74.59817265666388, 54.41508987471407, 40.12193073935869, -72.11205337369202, 69.00625948243808, 74.59817265666388, -78.6750750431921, -96.19434186553482, -49.53631422485168, 171.37498887055747, -61.704064844267975, 80.73536296228657, -192.14649741861803, 30.41228291810911, -151.25487357991793, -215.11095605475376, -55.66890189199553, 67.73729552021332, 37.65864462421994, -47.67597789432067, 17.499719436819486, -47.67597789432067, -72.11205337369202, -55.66890189199553, -75.28183905594952, 2.0237496332435803, 141.4287611424928, -90.75892709115081, -72.11205337369202]}\"\n",
      "\n"
     ]
    }
   ],
   "source": [
    "predict_params = {\"model_id\" : 1}\n",
    "r = requests.get(f'{base_root}/model/predict', headers=headers, \n",
    "                 data = json.dumps(predict_params))\n",
    "print(r.text)"
   ]
  },
  {
   "cell_type": "markdown",
   "metadata": {},
   "source": [
    "## Список моделей"
   ]
  },
  {
   "cell_type": "code",
   "execution_count": 6,
   "metadata": {},
   "outputs": [
    {
     "name": "stdout",
     "output_type": "stream",
     "text": [
      "{\n",
      "    \"1\": \"Model_type: Regression, is_fitted : True, comment : blablabla\",\n",
      "    \"2\": \"Model_type: BinaryClassification, is_fitted : False, comment : -\"\n",
      "}\n",
      "\n"
     ]
    }
   ],
   "source": [
    "r = requests.get(f'{base_root}/models_list', headers=headers)\n",
    "print(r.text)"
   ]
  },
  {
   "cell_type": "markdown",
   "metadata": {},
   "source": [
    "## Удаление модели"
   ]
  },
  {
   "cell_type": "code",
   "execution_count": 7,
   "metadata": {},
   "outputs": [
    {
     "name": "stdout",
     "output_type": "stream",
     "text": [
      "<Response [200]>\n",
      "{\n",
      "    \"1\": \"Model_type: Regression, is_fitted : True, comment : blablabla\"\n",
      "}\n",
      "\n"
     ]
    }
   ],
   "source": [
    "delete_params = {\"model_id\" : 2}\n",
    "r = requests.delete(f'{base_root}/model/delete', headers=headers, \n",
    "                 data = json.dumps(delete_params))\n",
    "print(r)\n",
    "\n",
    "r = requests.get('http://127.0.0.1:5000/Models/models_list', headers=headers)\n",
    "print(r.text)"
   ]
  },
  {
   "cell_type": "markdown",
   "metadata": {},
   "source": [
    "## Переобучение модели с другими параметрами"
   ]
  },
  {
   "cell_type": "code",
   "execution_count": 8,
   "metadata": {},
   "outputs": [
    {
     "name": "stdout",
     "output_type": "stream",
     "text": [
      "<Response [200]>\n"
     ]
    },
    {
     "data": {
      "text/plain": [
       "<Response [200]>"
      ]
     },
     "execution_count": 8,
     "metadata": {},
     "output_type": "execute_result"
    }
   ],
   "source": [
    "set_params = {\n",
    "  \"model_id\": 2,\n",
    "  \"model_type\": \"BinaryClassification\",\n",
    "}\n",
    "r = requests.post(f'{base_root}/model/set', headers=headers, data=json.dumps(set_params))\n",
    "print(r)\n",
    "\n",
    "model_params = {'max_depth':2, 'criterion':'gini'}\n",
    "\n",
    "fit_params = {\n",
    "  \"model_id\": 2,\n",
    "  \"model_params\" : model_params}\n",
    "\n",
    "r = requests.post('http://127.0.0.1:5000/Models/model/fit', headers=headers, data=json.dumps(fit_params))\n",
    "r"
   ]
  },
  {
   "cell_type": "code",
   "execution_count": 9,
   "metadata": {},
   "outputs": [
    {
     "name": "stdout",
     "output_type": "stream",
     "text": [
      "\"{\\\"predict\\\": [0.0, 1.0, 1.0, 0.0, 0.0, 0.0, 1.0, 1.0, 0.0, 0.0, 1.0, 0.0, 1.0, 0.0, 0.0, 1.0, 1.0, 0.0, 1.0, 1.0, 1.0, 1.0, 1.0, 0.0, 1.0, 0.0, 0.0, 0.0, 0.0, 0.0, 1.0, 1.0, 0.0, 1.0, 0.0, 0.0, 1.0, 0.0, 0.0, 1.0, 0.0, 1.0, 1.0, 0.0, 0.0, 0.0, 0.0, 1.0, 1.0, 0.0, 1.0, 0.0, 0.0, 1.0, 0.0, 0.0, 1.0, 0.0, 0.0, 0.0, 0.0, 1.0, 0.0, 1.0, 0.0, 0.0, 0.0, 1.0, 0.0, 0.0, 0.0, 0.0, 1.0, 0.0, 0.0, 0.0, 0.0, 0.0, 0.0, 1.0, 0.0, 0.0, 0.0, 1.0, 1.0, 0.0, 1.0, 0.0, 1.0, 0.0, 1.0, 1.0, 1.0, 1.0, 0.0, 1.0, 0.0, 1.0, 0.0, 1.0]}\"\n",
      "\n"
     ]
    }
   ],
   "source": [
    "predict_params = {\"model_id\" : 2}\n",
    "r = requests.get(f'{base_root}/model/predict', headers=headers, \n",
    "                 data = json.dumps(predict_params))\n",
    "print(r.text)"
   ]
  },
  {
   "cell_type": "code",
   "execution_count": null,
   "metadata": {},
   "outputs": [],
   "source": []
  },
  {
   "cell_type": "code",
   "execution_count": null,
   "metadata": {},
   "outputs": [],
   "source": []
  }
 ],
 "metadata": {
  "kernelspec": {
   "display_name": "Python 3",
   "language": "python",
   "name": "python3"
  },
  "language_info": {
   "codemirror_mode": {
    "name": "ipython",
    "version": 3
   },
   "file_extension": ".py",
   "mimetype": "text/x-python",
   "name": "python",
   "nbconvert_exporter": "python",
   "pygments_lexer": "ipython3",
   "version": "3.7.3"
  },
  "toc": {
   "base_numbering": 1,
   "nav_menu": {},
   "number_sections": true,
   "sideBar": true,
   "skip_h1_title": false,
   "title_cell": "Table of Contents",
   "title_sidebar": "Contents",
   "toc_cell": false,
   "toc_position": {},
   "toc_section_display": true,
   "toc_window_display": false
  }
 },
 "nbformat": 4,
 "nbformat_minor": 2
}
