{
 "cells": [
  {
   "cell_type": "code",
   "execution_count": 4,
   "metadata": {},
   "outputs": [],
   "source": [
    "import json\n",
    "import requests"
   ]
  },
  {
   "cell_type": "code",
   "execution_count": 18,
   "metadata": {},
   "outputs": [],
   "source": [
    "base_root = 'http://127.0.0.1:5000/Models'"
   ]
  },
  {
   "cell_type": "markdown",
   "metadata": {},
   "source": [
    "## Создание моделей"
   ]
  },
  {
   "cell_type": "code",
   "execution_count": 19,
   "metadata": {},
   "outputs": [
    {
     "name": "stdout",
     "output_type": "stream",
     "text": [
      "<Response [200]> {\n",
      "  \"message\": \"Model 1 successfully set.\"\n",
      "}\n",
      "\n",
      "<Response [200]> {\n",
      "  \"message\": \"Model 2 successfully set.\"\n",
      "}\n",
      "\n"
     ]
    }
   ],
   "source": [
    "headers = {\"accept\": \"application/json\", \"content-type\": \"application/json\"}\n",
    "\n",
    "set_params = {\n",
    "  \"model_id\": 1,\n",
    "  \"model_type\": \"Regression\",\n",
    "  \"model_comment\" : 'blablabla'\n",
    "}\n",
    "r = requests.post(f'{base_root}/model/set', headers=headers, data=json.dumps(set_params))\n",
    "print(r, r.text)\n",
    "\n",
    "set_params = {\n",
    "  \"model_id\": 2,\n",
    "  \"model_type\": \"BinaryClassification\",\n",
    "}\n",
    "r = requests.post(f'{base_root}/model/set', headers=headers, data=json.dumps(set_params))\n",
    "print(r, r.text)\n"
   ]
  },
  {
   "cell_type": "markdown",
   "metadata": {},
   "source": [
    "## Обучение модели"
   ]
  },
  {
   "cell_type": "code",
   "execution_count": 20,
   "metadata": {},
   "outputs": [
    {
     "name": "stdout",
     "output_type": "stream",
     "text": [
      "<Response [200]> {\n",
      "  \"message\": \"Model 1 successfully fitted.\"\n",
      "}\n",
      "\n"
     ]
    }
   ],
   "source": [
    "model_params = {'max_depth':3, 'n_estimators':10}\n",
    "\n",
    "fit_params = {\n",
    "  \"model_id\": 1,\n",
    "  \"model_params\" : model_params,\n",
    "  \"refit\": True}\n",
    "\n",
    "r = requests.post(f'{base_root}/model/fit', headers=headers, data=json.dumps(fit_params))\n",
    "print(r, r.text)"
   ]
  },
  {
   "cell_type": "markdown",
   "metadata": {},
   "source": [
    "## Вызов предикта модели"
   ]
  },
  {
   "cell_type": "code",
   "execution_count": 21,
   "metadata": {},
   "outputs": [
    {
     "name": "stdout",
     "output_type": "stream",
     "text": [
      "\"{\\\"predict\\\": [-164.71258380856838, 36.32957858044748, 87.60050051908264, 121.09141410665286, 178.2630718290915, -67.7166703944981, 178.2630718290915, 100.8944933986167, -96.2209586438246, -95.01244244123171, -84.82604338011272, 10.101158689000917, -53.197456113583904, -156.54215543102072, 67.00068011933959, 203.8168224515438, -79.68221531496503, 54.8964695286748, -133.86242441277287, -164.71258380856838, 54.8964695286748, 31.56779958604765, -135.73335211222312, -72.86049845964575, 97.939849690865, 6.095545659107803, 31.56779958604765, -120.24907902543104, -68.22330549295079, -87.45337531693568, 63.33195710603202, 129.97157317243585, 63.33195710603202, 54.8964695286748, 33.85197764050596, 29.588241766612413, 150.7174873396285, -112.07865064788339, 54.8964695286748, 129.97157317243585, -67.1088675056205, 129.97157317243585, 54.8964695286748, 63.33195710603202, -164.71258380856838, -40.64584078457185, -143.66984406899388, -84.82604338011272, -84.82604338011272, 67.00068011933959, 31.56779958604765, -72.86049845964575, 10.857324653507636, -151.51756256536328, -164.71258380856838, 31.56779958604765, 36.32957858044748, 20.544056535951945, 20.820658439723505, 25.037334970112006, 44.45357168172377, 31.56779958604765, -84.82604338011272, 87.60050051908264, 54.8964695286748, 31.56779958604765, 178.2630718290915, -156.54215543102072, -151.51756256536328, 87.60050051908264, -79.68221531496503, -56.25776057248383, 121.09141410665286, -67.7166703944981, -133.86242441277287, 36.32957858044748, 36.32957858044748, -67.7166703944981, 178.2630718290915, -72.86049845964575, 31.56779958604765, -19.912712537215974, 20.275555975712173, 31.56779958604765, -56.25776057248383, -127.56292373467545, 54.8964695286748, -78.52654270201529, 20.820658439723505, -87.45337531693568, 31.56779958604765, -141.05788234422872, 54.8964695286748, 10.857324653507636, 178.2630718290915, 54.8964695286748, 129.97157317243585, -84.82604338011272, -96.2209586438246, 140.52254457837995]}\"\n",
      "\n"
     ]
    }
   ],
   "source": [
    "predict_params = {\"model_id\" : 1}\n",
    "r = requests.get(f'{base_root}/model/predict', headers=headers, \n",
    "                 data = json.dumps(predict_params))\n",
    "print(r.text)"
   ]
  },
  {
   "cell_type": "markdown",
   "metadata": {},
   "source": [
    "## Список моделей"
   ]
  },
  {
   "cell_type": "code",
   "execution_count": 22,
   "metadata": {},
   "outputs": [
    {
     "name": "stdout",
     "output_type": "stream",
     "text": [
      "{\n",
      "  \"1\": \"Model_type: Regression, is_fitted : True, comment : blablabla\", \n",
      "  \"2\": \"Model_type: BinaryClassification, is_fitted : False, comment : -\"\n",
      "}\n",
      "\n"
     ]
    }
   ],
   "source": [
    "params = {\n",
    "  \"loaded\": True}\n",
    "\n",
    "r = requests.get(f'{base_root}/models_list/get', headers=headers, data=json.dumps(params))\n",
    "print(r.text)"
   ]
  },
  {
   "cell_type": "markdown",
   "metadata": {},
   "source": [
    "## Удаление модели"
   ]
  },
  {
   "cell_type": "code",
   "execution_count": 23,
   "metadata": {},
   "outputs": [
    {
     "name": "stdout",
     "output_type": "stream",
     "text": [
      "<Response [200]> {\n",
      "  \"message\": \"Model 2 successfully deleted.\"\n",
      "}\n",
      "\n",
      "<Response [200]> {\n",
      "  \"1\": \"Model_type: Regression, is_fitted : True, comment : blablabla\"\n",
      "}\n",
      "\n"
     ]
    }
   ],
   "source": [
    "delete_params = {\"model_id\" : 2}\n",
    "r = requests.delete(f'{base_root}/model/delete', headers=headers, \n",
    "                 data = json.dumps(delete_params))\n",
    "print(r, r.text)\n",
    "\n",
    "params = {\n",
    "  \"loaded\": True}\n",
    "\n",
    "r = requests.get(f'{base_root}/models_list/get', headers=headers, data=json.dumps(params))\n",
    "print(r, r.text)"
   ]
  },
  {
   "cell_type": "markdown",
   "metadata": {},
   "source": [
    "## Переобучение модели с другими параметрами"
   ]
  },
  {
   "cell_type": "code",
   "execution_count": 25,
   "metadata": {},
   "outputs": [
    {
     "name": "stdout",
     "output_type": "stream",
     "text": [
      "<Response [200]> {\n",
      "  \"message\": \"Model 4 successfully set.\"\n",
      "}\n",
      "\n",
      "<Response [200]> {\n",
      "  \"message\": \"Model 4 successfully fitted.\"\n",
      "}\n",
      "\n",
      "<Response [200]> {\n",
      "  \"message\": \"Model 4 successfully fitted.\"\n",
      "}\n",
      "\n"
     ]
    }
   ],
   "source": [
    "set_params = {\n",
    "  \"model_id\": 4,\n",
    "  \"model_type\": \"BinaryClassification\",\n",
    "    \n",
    "}\n",
    "r = requests.post(f'{base_root}/model/set', headers=headers, data=json.dumps(set_params))\n",
    "print(r, r.text)\n",
    "\n",
    "model_params = {'max_depth':2, 'criterion':'gini'}\n",
    "\n",
    "fit_params = {\n",
    "  \"model_id\": 4,\n",
    "  \"model_params\" : model_params}\n",
    "\n",
    "r = requests.post('http://127.0.0.1:5000/Models/model/fit', headers=headers, data=json.dumps(fit_params))\n",
    "print(r, r.text)\n",
    "\n",
    "model_params = {'max_depth':3, 'criterion':'gini'}\n",
    "\n",
    "fit_params = {\n",
    "  \"model_id\": 4,\n",
    "  \"model_params\" : model_params}\n",
    "\n",
    "r = requests.post('http://127.0.0.1:5000/Models/model/fit', headers=headers, data=json.dumps(fit_params))\n",
    "print(r, r.text)"
   ]
  },
  {
   "cell_type": "markdown",
   "metadata": {},
   "source": [
    "## Обработка ошибок"
   ]
  },
  {
   "cell_type": "code",
   "execution_count": 28,
   "metadata": {},
   "outputs": [
    {
     "name": "stdout",
     "output_type": "stream",
     "text": [
      "<Response [500]> {\n",
      "  \"error\": {\n",
      "    \"message\": [\n",
      "      \"Model with id 2 exists. To rewrite set \\\"rewrite_model=True\\\"\"\n",
      "    ], \n",
      "    \"type\": \"ValueError\"\n",
      "  }\n",
      "}\n",
      "\n"
     ]
    }
   ],
   "source": [
    "set_params = {\n",
    "  \"model_id\": 2,\n",
    "  \"model_type\": \"BinaryClassification\",\n",
    "}\n",
    "r = requests.post(f'{base_root}/model/set', headers=headers, data=json.dumps(set_params))\n",
    "print(r, r.text)\n"
   ]
  },
  {
   "cell_type": "code",
   "execution_count": 29,
   "metadata": {},
   "outputs": [
    {
     "name": "stdout",
     "output_type": "stream",
     "text": [
      "{\n",
      "  \"error\": {\n",
      "    \"message\": [\n",
      "      \"Model is not fitted. Try .fit() method :)\"\n",
      "    ], \n",
      "    \"type\": \"ValueError\"\n",
      "  }\n",
      "}\n",
      "\n"
     ]
    }
   ],
   "source": [
    "predict_params = {\"model_id\" : 2}\n",
    "r = requests.get(f'{base_root}/model/predict', headers=headers, \n",
    "                 data = json.dumps(predict_params))\n",
    "print(r.text)"
   ]
  },
  {
   "cell_type": "code",
   "execution_count": 30,
   "metadata": {},
   "outputs": [
    {
     "name": "stdout",
     "output_type": "stream",
     "text": [
      "<Response [500]> {\n",
      "  \"error\": {\n",
      "    \"message\": [\n",
      "      \"Model with id 6 doesnt exist.\"\n",
      "    ], \n",
      "    \"type\": \"ValueError\"\n",
      "  }\n",
      "}\n",
      "\n"
     ]
    }
   ],
   "source": [
    "set_params = {\n",
    "  \"model_id\": 6,\n",
    "  \"model_type\": \"BinaryClassification\",\n",
    "  \"new_model\": False,\n",
    "}\n",
    "r = requests.post(f'{base_root}/model/set', headers=headers, data=json.dumps(set_params))\n",
    "print(r, r.text)\n"
   ]
  },
  {
   "cell_type": "code",
   "execution_count": 35,
   "metadata": {},
   "outputs": [
    {
     "name": "stdout",
     "output_type": "stream",
     "text": [
      "<Response [200]> {\n",
      "  \"message\": \"Model 2 successfully set.\"\n",
      "}\n",
      "\n"
     ]
    }
   ],
   "source": [
    "set_params = {\n",
    "  \"model_id\": 2,\n",
    "  \"model_type\": \"BinaryClassification\",\n",
    "  \"rewrite_model\": True,\n",
    "}\n",
    "r = requests.post(f'{base_root}/model/set', headers=headers, data=json.dumps(set_params))\n",
    "print(r, r.text)\n"
   ]
  },
  {
   "cell_type": "code",
   "execution_count": 36,
   "metadata": {},
   "outputs": [
    {
     "name": "stdout",
     "output_type": "stream",
     "text": [
      "<Response [500]> {\n",
      "  \"error\": {\n",
      "    \"message\": [\n",
      "      \"Unrecognized params for model BinaryClassification: ['max_depthhhhh']\"\n",
      "    ], \n",
      "    \"type\": \"TypeError\"\n",
      "  }\n",
      "}\n",
      "\n"
     ]
    }
   ],
   "source": [
    "model_params = {'max_depthhhhh':3, 'criterion':'gini'}\n",
    "\n",
    "fit_params = {\n",
    "  \"model_id\": 2,\n",
    "  \"model_params\" : model_params}\n",
    "\n",
    "r = requests.post('http://127.0.0.1:5000/Models/model/fit', headers=headers, data=json.dumps(fit_params))\n",
    "print(r, r.text)"
   ]
  },
  {
   "cell_type": "code",
   "execution_count": null,
   "metadata": {},
   "outputs": [],
   "source": []
  }
 ],
 "metadata": {
  "kernelspec": {
   "display_name": "Python 3",
   "language": "python",
   "name": "python3"
  },
  "toc": {
   "base_numbering": 1,
   "nav_menu": {},
   "number_sections": true,
   "sideBar": true,
   "skip_h1_title": false,
   "title_cell": "Table of Contents",
   "title_sidebar": "Contents",
   "toc_cell": false,
   "toc_position": {},
   "toc_section_display": true,
   "toc_window_display": false
  }
 },
 "nbformat": 4,
 "nbformat_minor": 2
}
