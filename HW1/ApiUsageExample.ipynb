{
 "cells": [
  {
   "cell_type": "code",
   "execution_count": 292,
   "metadata": {},
   "outputs": [],
   "source": [
    "import json\n",
    "import requests"
   ]
  },
  {
   "cell_type": "markdown",
   "metadata": {},
   "source": [
    "## Создание моделей"
   ]
  },
  {
   "cell_type": "code",
   "execution_count": 297,
   "metadata": {},
   "outputs": [
    {
     "name": "stdout",
     "output_type": "stream",
     "text": [
      "<Response [200]>\n",
      "<Response [200]>\n"
     ]
    }
   ],
   "source": [
    "headers = {\"accept\": \"application/json\", \"content-type\": \"application/json\"}\n",
    "\n",
    "set_params = {\n",
    "  \"model_name\": \"first_model\",\n",
    "  \"model_type\": \"Regression\",\n",
    "}\n",
    "r = requests.post('http://127.0.0.1:5000/Models/model/set', headers=headers, data=json.dumps(set_params))\n",
    "print(r)\n",
    "\n",
    "set_params = {\n",
    "  \"model_name\": \"second_model\",\n",
    "  \"model_type\": \"Regression\",\n",
    "}\n",
    "r = requests.post('http://127.0.0.1:5000/Models/model/set', headers=headers, data=json.dumps(set_params))\n",
    "print(r)"
   ]
  },
  {
   "cell_type": "markdown",
   "metadata": {},
   "source": [
    "## Обучение модели"
   ]
  },
  {
   "cell_type": "code",
   "execution_count": 298,
   "metadata": {},
   "outputs": [
    {
     "data": {
      "text/plain": [
       "<Response [200]>"
      ]
     },
     "execution_count": 298,
     "metadata": {},
     "output_type": "execute_result"
    }
   ],
   "source": [
    "model_params = {'max_depth':3, 'n_estimators':10}\n",
    "\n",
    "fit_params = {\n",
    "  \"model_name\": \"first_model\",\n",
    "  \"model_params\" : model_params}\n",
    "\n",
    "r = requests.post('http://127.0.0.1:5000/Models/model/fit', headers=headers, data=json.dumps(fit_params))\n",
    "r"
   ]
  },
  {
   "cell_type": "markdown",
   "metadata": {},
   "source": [
    "## Вызов предикта модели"
   ]
  },
  {
   "cell_type": "code",
   "execution_count": 302,
   "metadata": {},
   "outputs": [
    {
     "name": "stdout",
     "output_type": "stream",
     "text": [
      "\"{\\\"predict\\\": [76.51110022273413, 2.371938260625006, 68.68938308168826, -124.68134272405091, 172.02684816703822, -15.531282124490534, -103.77452019921286, 62.4482396365126, 104.23426821332126, -97.95730777321258, -9.81017857151509, 111.26220367583184, -15.531282124490534, 24.44771665927287, -103.77452019921286, -124.00427043268391, 31.420542555296617, -15.531282124490534, -115.29456042133384, 9.566507350338568, -9.81017857151509, 112.14857703499406, 252.53162699732403, -97.95730777321258, -124.00427043268391, 104.23426821332126, -97.95730777321258, -19.928325106233828, -124.00427043268391, 54.467600009134934, 172.02684816703822, 21.323538375178465, 118.17813834352826, -9.81017857151509, -15.531282124490534, -124.00427043268391, 24.44771665927287, -15.531282124490534, -19.928325106233828, -14.207221553258384, 23.577017032572794, 49.774620301247424, 50.802268967669605, 55.85684126009128, -39.43765741932382, -0.8410853500291037, -103.77452019921286, -115.29456042133384, 115.78019648272297, -142.15728014494087, -19.928325106233828, 54.467600009134934, 201.42019510568215, 214.91993307890857, -103.77452019921286, 157.1996856641028, 215.45086470662855, -19.928325106233828, -19.928325106233828, -124.00427043268391, -50.11585295280853, -19.928325106233828, 24.44771665927287, -82.97565680395823, -19.928325106233828, -103.77452019921286, 41.793980673869754, 175.9183028904157, -97.95730777321258, -15.531282124490534, -45.99219105029344, 24.44771665927287, 52.35188277493371, -9.81017857151509, 140.16056431770784, 104.23426821332126, 144.0402146202271, -103.77452019921286, 62.0659611675055, -19.928325106233828, 131.3665952849619, -97.95730777321258, -312.1716643331624, -82.97565680395823, 112.1739307708967, 108.73549193426368, -97.95730777321258, -15.531282124490534, -66.89901357513148, 137.3204536081425, -144.91109295752193, -9.81017857151509, -97.95730777321258, -136.20138294617186, -15.531282124490534, 59.11881551616638, 144.0402146202271, -19.928325106233828, 67.73667891682119, -35.04061443758052]}\"\n",
      "\n"
     ]
    }
   ],
   "source": [
    "predict_params = {\"model_name\" : \"first_model\"}\n",
    "r = requests.get('http://127.0.0.1:5000/Models/model/predict', headers=headers, \n",
    "                 data = json.dumps(predict_params))\n",
    "print(r.text)"
   ]
  },
  {
   "cell_type": "markdown",
   "metadata": {},
   "source": [
    "## Список моделей"
   ]
  },
  {
   "cell_type": "code",
   "execution_count": 301,
   "metadata": {},
   "outputs": [
    {
     "name": "stdout",
     "output_type": "stream",
     "text": [
      "{\n",
      "    \"first_model\": \"Model_type: Regression, is_fitted : True\",\n",
      "    \"second_model\": \"Model_type: Regression, is_fitted : False\"\n",
      "}\n",
      "\n"
     ]
    }
   ],
   "source": [
    "r = requests.get('http://127.0.0.1:5000/Models/models_list', headers=headers)\n",
    "print(r.text)"
   ]
  },
  {
   "cell_type": "markdown",
   "metadata": {},
   "source": [
    "## Удаление модели"
   ]
  },
  {
   "cell_type": "code",
   "execution_count": 303,
   "metadata": {},
   "outputs": [
    {
     "name": "stdout",
     "output_type": "stream",
     "text": [
      "<Response [200]>\n",
      "{\n",
      "    \"first_model\": \"Model_type: Regression, is_fitted : True\"\n",
      "}\n",
      "\n"
     ]
    }
   ],
   "source": [
    "delete_params = {\"model_name\" : \"second_model\"}\n",
    "r = requests.delete('http://127.0.0.1:5000/Models/model/delete', headers=headers, \n",
    "                 data = json.dumps(delete_params))\n",
    "print(r)\n",
    "\n",
    "r = requests.get('http://127.0.0.1:5000/Models/models_list', headers=headers)\n",
    "print(r.text)"
   ]
  },
  {
   "cell_type": "markdown",
   "metadata": {},
   "source": [
    "## Переобучение модели с другими параметрами"
   ]
  },
  {
   "cell_type": "code",
   "execution_count": 307,
   "metadata": {},
   "outputs": [
    {
     "name": "stdout",
     "output_type": "stream",
     "text": [
      "<Response [200]>\n"
     ]
    },
    {
     "data": {
      "text/plain": [
       "<Response [200]>"
      ]
     },
     "execution_count": 307,
     "metadata": {},
     "output_type": "execute_result"
    }
   ],
   "source": [
    "set_params = {\n",
    "  \"model_name\": \"second_model\",\n",
    "  \"model_type\": \"BinaryClassification\",\n",
    "}\n",
    "r = requests.post('http://127.0.0.1:5000/Models/model/set', headers=headers, data=json.dumps(set_params))\n",
    "print(r)\n",
    "\n",
    "model_params = {'max_depth':2, 'criterion':'gini'}\n",
    "\n",
    "fit_params = {\n",
    "  \"model_name\": \"second_model\",\n",
    "  \"model_params\" : model_params}\n",
    "\n",
    "r = requests.post('http://127.0.0.1:5000/Models/model/fit', headers=headers, data=json.dumps(fit_params))\n",
    "r"
   ]
  }
 ],
 "metadata": {
  "kernelspec": {
   "display_name": "Python 3",
   "language": "python",
   "name": "python3"
  },
  "language_info": {
   "codemirror_mode": {
    "name": "ipython",
    "version": 3
   },
   "file_extension": ".py",
   "mimetype": "text/x-python",
   "name": "python",
   "nbconvert_exporter": "python",
   "pygments_lexer": "ipython3",
   "version": "3.7.3"
  },
  "toc": {
   "base_numbering": 1,
   "nav_menu": {},
   "number_sections": true,
   "sideBar": true,
   "skip_h1_title": false,
   "title_cell": "Table of Contents",
   "title_sidebar": "Contents",
   "toc_cell": false,
   "toc_position": {},
   "toc_section_display": true,
   "toc_window_display": false
  }
 },
 "nbformat": 4,
 "nbformat_minor": 2
}
