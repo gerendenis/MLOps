{
 "cells": [
  {
   "cell_type": "code",
   "execution_count": 5,
   "metadata": {},
   "outputs": [],
   "source": [
    "import json\n",
    "import requests"
   ]
  },
  {
   "cell_type": "code",
   "execution_count": 6,
   "metadata": {},
   "outputs": [],
   "source": [
    "base_root = 'http://127.0.0.1:5000/Models'"
   ]
  },
  {
   "cell_type": "markdown",
   "metadata": {},
   "source": [
    "## Создание моделей"
   ]
  },
  {
   "cell_type": "code",
   "execution_count": 7,
   "metadata": {},
   "outputs": [
    {
     "name": "stdout",
     "output_type": "stream",
     "text": [
      "<Response [200]> {\n",
      "  \"message\": \"Model 1 successfully set.\"\n",
      "}\n",
      "\n",
      "<Response [200]> {\n",
      "  \"message\": \"Model 2 successfully set.\"\n",
      "}\n",
      "\n"
     ]
    }
   ],
   "source": [
    "headers = {\"accept\": \"application/json\", \"content-type\": \"application/json\"}\n",
    "\n",
    "set_params = {\n",
    "  \"model_id\": 1,\n",
    "  \"model_type\": \"Regression\",\n",
    "  \"model_comment\" : 'blablabla',\n",
    "  \"rewrite_model\" : True\n",
    "}\n",
    "r = requests.post(f'{base_root}/model/set', headers=headers, data=json.dumps(set_params))\n",
    "print(r, r.text)\n",
    "\n",
    "set_params = {\n",
    "  \"model_id\": 2,\n",
    "  \"model_type\": \"BinaryClassification\",\n",
    "  \"rewrite_model\" : True\n",
    "\n",
    "}\n",
    "r = requests.post(f'{base_root}/model/set', headers=headers, data=json.dumps(set_params))\n",
    "print(r, r.text)\n"
   ]
  },
  {
   "cell_type": "markdown",
   "metadata": {},
   "source": [
    "## Обучение модели"
   ]
  },
  {
   "cell_type": "code",
   "execution_count": 8,
   "metadata": {},
   "outputs": [
    {
     "name": "stdout",
     "output_type": "stream",
     "text": [
      "<Response [200]> {\n",
      "  \"message\": \"Model 1 successfully fitted.\"\n",
      "}\n",
      "\n"
     ]
    }
   ],
   "source": [
    "model_params = {'max_depth':3, 'n_estimators':10}\n",
    "\n",
    "fit_params = {\n",
    "  \"model_id\": 1,\n",
    "  \"model_params\" : model_params,\n",
    "  \"refit\": True}\n",
    "\n",
    "r = requests.post(f'{base_root}/model/fit', headers=headers, data=json.dumps(fit_params))\n",
    "print(r, r.text)"
   ]
  },
  {
   "cell_type": "markdown",
   "metadata": {},
   "source": [
    "## Вызов предикта модели"
   ]
  },
  {
   "cell_type": "code",
   "execution_count": 9,
   "metadata": {},
   "outputs": [
    {
     "name": "stdout",
     "output_type": "stream",
     "text": [
      "\"{\\\"predict\\\": [80.54219360998063, -138.07107036047313, -21.209939865366728, 32.301579544265515, 34.88424555960867, 69.23442212631882, -76.38107817659503, 69.23442212631882, -14.896931794856716, 80.54219360998063, -12.10660770886322, -12.765385017942979, -51.97429433909623, 73.26094986025672, -112.33974378313306, -194.5441695351954, -44.06430078516687, -49.5748910846847, -12.10660770886322, 192.78012002299, 132.77119457790127, -79.41418723845706, -101.64334786585165, 185.87025226933457, 130.2805408672979, 169.18484991774812, -22.134937126781676, -12.10660770886322, -76.38107817659503, -151.0565464226459, 117.31485608127386, 3.9785178765068254, 80.54219360998063, 60.74100522125743, 146.6727373373592, 234.3762900270736, -65.18289662733919, 156.72677403217077, 145.4379502967745, 14.573958923425115, 74.48401502846187, -166.63069422952972, -11.32103321544006, 3.1866199085900453, -128.04502948984785, -76.38107817659503, 1.7807445769183172, -111.66938873647692, 132.89905790950965, 97.72211819245852, 133.9330055607808, -32.161868236667765, -152.250498357014, -128.04502948984785, -49.5748910846847, 132.89905790950965, 14.573958923425115, -118.84393467949167, 67.03576217556075, 69.23442212631882, -138.07107036047313, 58.73231299656877, -12.10660770886322, 77.46317302657097, 144.20682939317146, 15.02286777002747, 42.32990896218398, 34.070456775021356, -7.37730962479625, -22.670537242249516, -46.58621894594951, -14.896931794856716, -72.8013156206199, -86.4071190472203, 93.80435817154834, -74.89644812005643, 80.54219360998063, -111.66938873647692, -64.86811870213796, 24.733799043127995, -46.58621894594951, -21.732439941755636, -25.65920938098471, 25.05119718794593, -86.4071190472203, 85.711972569409, -22.670537242249516, 60.328316795466186, 80.54219360998063, -111.66938873647692, -122.1989162654983, 80.54219360998063, 69.94466022834176, -69.26038578736183, -95.66206741135804, -95.66206741135804, -25.417999943537477, 38.93854947372746, -218.34431690157766, -138.07107036047313]}\"\n",
      "\n"
     ]
    }
   ],
   "source": [
    "predict_params = {\"model_id\" : 1}\n",
    "r = requests.get(f'{base_root}/model/predict', headers=headers, \n",
    "                 data = json.dumps(predict_params))\n",
    "print(r.text)"
   ]
  },
  {
   "cell_type": "markdown",
   "metadata": {},
   "source": [
    "## Список моделей"
   ]
  },
  {
   "cell_type": "code",
   "execution_count": 10,
   "metadata": {},
   "outputs": [
    {
     "name": "stdout",
     "output_type": "stream",
     "text": [
      "{\n",
      "  \"1\": \"Model_type: Regression, is_fitted : True, comment : blablabla\", \n",
      "  \"2\": \"Model_type: BinaryClassification, is_fitted : False, comment : -\"\n",
      "}\n",
      "\n"
     ]
    }
   ],
   "source": [
    "params = {\n",
    "  \"loaded\": True}\n",
    "\n",
    "r = requests.get(f'{base_root}/models_list/get', headers=headers, data=json.dumps(params))\n",
    "print(r.text)"
   ]
  },
  {
   "cell_type": "markdown",
   "metadata": {},
   "source": [
    "## Удаление модели"
   ]
  },
  {
   "cell_type": "code",
   "execution_count": 11,
   "metadata": {},
   "outputs": [
    {
     "name": "stdout",
     "output_type": "stream",
     "text": [
      "<Response [200]> {\n",
      "  \"message\": \"Model 2 successfully deleted.\"\n",
      "}\n",
      "\n",
      "<Response [200]> {\n",
      "  \"1\": \"Model_type: Regression, is_fitted : True, comment : blablabla\"\n",
      "}\n",
      "\n"
     ]
    }
   ],
   "source": [
    "delete_params = {\"model_id\" : 2}\n",
    "r = requests.delete(f'{base_root}/model/delete', headers=headers, \n",
    "                 data = json.dumps(delete_params))\n",
    "print(r, r.text)\n",
    "\n",
    "params = {\n",
    "  \"loaded\": True}\n",
    "\n",
    "r = requests.get(f'{base_root}/models_list/get', headers=headers, data=json.dumps(params))\n",
    "print(r, r.text)"
   ]
  },
  {
   "cell_type": "markdown",
   "metadata": {},
   "source": [
    "## Переобучение модели с другими параметрами"
   ]
  },
  {
   "cell_type": "code",
   "execution_count": 12,
   "metadata": {},
   "outputs": [
    {
     "name": "stdout",
     "output_type": "stream",
     "text": [
      "<Response [200]> {\n",
      "  \"message\": \"Model 4 successfully set.\"\n",
      "}\n",
      "\n",
      "<Response [200]> {\n",
      "  \"message\": \"Model 4 successfully fitted.\"\n",
      "}\n",
      "\n",
      "<Response [200]> {\n",
      "  \"message\": \"Model 4 successfully fitted.\"\n",
      "}\n",
      "\n"
     ]
    }
   ],
   "source": [
    "set_params = {\n",
    "  \"model_id\": 4,\n",
    "  \"model_type\": \"BinaryClassification\",\n",
    "    \n",
    "}\n",
    "r = requests.post(f'{base_root}/model/set', headers=headers, data=json.dumps(set_params))\n",
    "print(r, r.text)\n",
    "\n",
    "model_params = {'max_depth':2, 'criterion':'gini'}\n",
    "\n",
    "fit_params = {\n",
    "  \"model_id\": 4,\n",
    "  \"model_params\" : model_params}\n",
    "\n",
    "r = requests.post('http://127.0.0.1:5000/Models/model/fit', headers=headers, data=json.dumps(fit_params))\n",
    "print(r, r.text)\n",
    "\n",
    "model_params = {'max_depth':3, 'criterion':'gini'}\n",
    "\n",
    "fit_params = {\n",
    "  \"model_id\": 4,\n",
    "  \"model_params\" : model_params}\n",
    "\n",
    "r = requests.post('http://127.0.0.1:5000/Models/model/fit', headers=headers, data=json.dumps(fit_params))\n",
    "print(r, r.text)"
   ]
  },
  {
   "cell_type": "markdown",
   "metadata": {},
   "source": [
    "## Обработка ошибок"
   ]
  },
  {
   "cell_type": "code",
   "execution_count": 13,
   "metadata": {},
   "outputs": [
    {
     "name": "stdout",
     "output_type": "stream",
     "text": [
      "<Response [200]> {\n",
      "  \"message\": \"Model 2 successfully set.\"\n",
      "}\n",
      "\n"
     ]
    }
   ],
   "source": [
    "set_params = {\n",
    "  \"model_id\": 2,\n",
    "  \"model_type\": \"BinaryClassification\",\n",
    "}\n",
    "r = requests.post(f'{base_root}/model/set', headers=headers, data=json.dumps(set_params))\n",
    "print(r, r.text)\n"
   ]
  },
  {
   "cell_type": "code",
   "execution_count": 14,
   "metadata": {},
   "outputs": [
    {
     "name": "stdout",
     "output_type": "stream",
     "text": [
      "{\n",
      "  \"error\": {\n",
      "    \"message\": [\n",
      "      \"Model is not fitted. Try .fit() method :)\"\n",
      "    ], \n",
      "    \"type\": \"ValueError\"\n",
      "  }\n",
      "}\n",
      "\n"
     ]
    }
   ],
   "source": [
    "predict_params = {\"model_id\" : 2}\n",
    "r = requests.get(f'{base_root}/model/predict', headers=headers, \n",
    "                 data = json.dumps(predict_params))\n",
    "print(r.text)"
   ]
  },
  {
   "cell_type": "code",
   "execution_count": 15,
   "metadata": {},
   "outputs": [
    {
     "name": "stdout",
     "output_type": "stream",
     "text": [
      "<Response [500]> {\n",
      "  \"error\": {\n",
      "    \"message\": [\n",
      "      \"Model with id 6 doesnt exist.\"\n",
      "    ], \n",
      "    \"type\": \"ValueError\"\n",
      "  }\n",
      "}\n",
      "\n"
     ]
    }
   ],
   "source": [
    "set_params = {\n",
    "  \"model_id\": 6,\n",
    "  \"model_type\": \"BinaryClassification\",\n",
    "  \"new_model\": False,\n",
    "}\n",
    "r = requests.post(f'{base_root}/model/set', headers=headers, data=json.dumps(set_params))\n",
    "print(r, r.text)\n"
   ]
  },
  {
   "cell_type": "code",
   "execution_count": 16,
   "metadata": {},
   "outputs": [
    {
     "name": "stdout",
     "output_type": "stream",
     "text": [
      "<Response [200]> {\n",
      "  \"message\": \"Model 2 successfully set.\"\n",
      "}\n",
      "\n"
     ]
    }
   ],
   "source": [
    "set_params = {\n",
    "  \"model_id\": 2,\n",
    "  \"model_type\": \"BinaryClassification\",\n",
    "  \"rewrite_model\": True,\n",
    "}\n",
    "r = requests.post(f'{base_root}/model/set', headers=headers, data=json.dumps(set_params))\n",
    "print(r, r.text)\n"
   ]
  },
  {
   "cell_type": "code",
   "execution_count": 17,
   "metadata": {},
   "outputs": [
    {
     "name": "stdout",
     "output_type": "stream",
     "text": [
      "<Response [500]> {\n",
      "  \"error\": {\n",
      "    \"message\": [\n",
      "      \"Unrecognized params for model BinaryClassification: ['max_depthhhhh']\"\n",
      "    ], \n",
      "    \"type\": \"TypeError\"\n",
      "  }\n",
      "}\n",
      "\n"
     ]
    }
   ],
   "source": [
    "model_params = {'max_depthhhhh':3, 'criterion':'gini'}\n",
    "\n",
    "fit_params = {\n",
    "  \"model_id\": 2,\n",
    "  \"model_params\" : model_params}\n",
    "\n",
    "r = requests.post('http://127.0.0.1:5000/Models/model/fit', headers=headers, data=json.dumps(fit_params))\n",
    "print(r, r.text)"
   ]
  },
  {
   "cell_type": "code",
   "execution_count": null,
   "metadata": {},
   "outputs": [],
   "source": []
  },
  {
   "cell_type": "code",
   "execution_count": null,
   "metadata": {},
   "outputs": [],
   "source": []
  }
 ],
 "metadata": {
  "kernelspec": {
   "display_name": "Python 3",
   "language": "python",
   "name": "python3"
  },
  "toc": {
   "base_numbering": 1,
   "nav_menu": {},
   "number_sections": true,
   "sideBar": true,
   "skip_h1_title": false,
   "title_cell": "Table of Contents",
   "title_sidebar": "Contents",
   "toc_cell": false,
   "toc_position": {},
   "toc_section_display": true,
   "toc_window_display": false
  }
 },
 "nbformat": 4,
 "nbformat_minor": 2
}
